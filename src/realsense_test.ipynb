{
 "cells": [
  {
   "cell_type": "markdown",
   "id": "24595fe0",
   "metadata": {},
   "source": [
    "# Camera run test\n",
    "Open camera, s to save, q to quit"
   ]
  },
  {
   "cell_type": "code",
   "execution_count": null,
   "id": "91424dc4",
   "metadata": {},
   "outputs": [
    {
     "name": "stdout",
     "output_type": "stream",
     "text": [
      "[INFO] Saved color to images/test/color_0000.png depth to images/test/depth_0000.png and depth map to images/test/depth_0000.npy\n"
     ]
    }
   ],
   "source": [
    "import pyrealsense2 as rs\n",
    "import numpy as np\n",
    "import cv2\n",
    "import os\n",
    "\n",
    "# Configure RealSense pipeline\n",
    "pipeline = rs.pipeline()\n",
    "config = rs.config()\n",
    "colorizer = rs.colorizer() # Create colorizer for depth map\n",
    "\n",
    "# Create folder to save images\n",
    "SAVE_DIR = \"images/test\"\n",
    "os.makedirs(SAVE_DIR, exist_ok=True)\n",
    "\n",
    "# Enable color and depth streams\n",
    "config.enable_stream(rs.stream.color, 640, 480, rs.format.bgr8, 30)\n",
    "config.enable_stream(rs.stream.depth, 640, 480, rs.format.z16, 30) # depth in 16bit format\n",
    "\n",
    "# Start streaming\n",
    "pipeline.start(config)\n",
    "frame_count = 0\n",
    "\n",
    "try:\n",
    "    while True:\n",
    "        # wait for a pair of depth and color\n",
    "        frames = pipeline.wait_for_frames()\n",
    "        color_frame = frames.get_color_frame()\n",
    "        depth_frame = frames.get_depth_frame()\n",
    "        if not color_frame or not depth_frame:\n",
    "            continue\n",
    "\n",
    "        # Convert images to numpy arrays\n",
    "        color_image = np.asanyarray(color_frame.get_data())\n",
    "        depth_image = np.asanyarray(colorizer.colorize(depth_frame).get_data())\n",
    "        depth_map = np.asanyarray(depth_frame.get_data())\n",
    "        # print(depth_map.dtype)\n",
    "        # print(depth_map.min(), depth_map.max())\n",
    "        # print(f\"Depth map values: {depth_map}\")\n",
    "        # print(f\"Depth image values: {depth_image}\")\n",
    "        \n",
    "        \n",
    "        # Stack images side by side\n",
    "        images = np.hstack((color_image, depth_image))\n",
    "        # Show images\n",
    "        cv2.imshow('RealSense RGB + Depth', images)\n",
    "\n",
    "        key = cv2.waitKey(1) & 0xFF # Get key every 1ms\n",
    "        # Press 'q' to exit\n",
    "        if key == ord('q'):\n",
    "            break\n",
    "        # Press 's' to save images\n",
    "        elif key == ord('s'):\n",
    "            color_path = os.path.join(SAVE_DIR, f\"color_{frame_count:04d}.png\")\n",
    "            depth_path = os.path.join(SAVE_DIR, f\"depth_{frame_count:04d}.png\")\n",
    "            depth_map_path = os.path.join(SAVE_DIR, f\"depth_{frame_count:04d}.npy\")\n",
    "            cv2.imwrite(color_path, color_image)\n",
    "            cv2.imwrite(depth_path, depth_image)\n",
    "            np.save(depth_map_path, depth_map)\n",
    "            print(f\"[INFO] Saved color to {color_path} depth to {depth_path} and depth map to {depth_map_path}\")\n",
    "            frame_count += 1\n",
    "finally:\n",
    "    # Stop streaming\n",
    "    pipeline.stop()\n",
    "    cv2.destroyAllWindows()\n"
   ]
  },
  {
   "cell_type": "markdown",
   "id": "f2074c8e",
   "metadata": {},
   "source": [
    "# Print out camera intrinsics"
   ]
  },
  {
   "cell_type": "code",
   "execution_count": 2,
   "id": "c8c2da00",
   "metadata": {},
   "outputs": [
    {
     "name": "stdout",
     "output_type": "stream",
     "text": [
      "Depth Scale: 0.0010000000474974513\n",
      "Width: 640\n",
      "Height: 480\n",
      "fx: 386.8893737792969\n",
      "fy: 386.8893737792969\n",
      "ppx (cx): 321.6220703125\n",
      "ppy (cy): 240.8651123046875\n",
      "Distortion Model: distortion.brown_conrady\n",
      "Distortion Coefficients: [0.0, 0.0, 0.0, 0.0, 0.0]\n"
     ]
    }
   ],
   "source": [
    "import pyrealsense2 as rs\n",
    "\n",
    "# Create pipeline\n",
    "pipeline = rs.pipeline()\n",
    "config = rs.config()\n",
    "config.enable_stream(rs.stream.depth, 640, 480, rs.format.z16, 30)\n",
    "config.enable_stream(rs.stream.color, 640, 480, rs.format.bgr8, 30)\n",
    "\n",
    "# Start streaming\n",
    "profile = pipeline.start(config)\n",
    "\n",
    "# Get stream profile and camera intrinsics\n",
    "depth_profile = profile.get_stream(rs.stream.depth)\n",
    "intrinsics = depth_profile.as_video_stream_profile().get_intrinsics()\n",
    "\n",
    "# Get depth scale\n",
    "profile = pipeline.get_active_profile()\n",
    "depth_sensor = profile.get_device().first_depth_sensor()\n",
    "depth_scale = depth_sensor.get_depth_scale()\n",
    "\n",
    "print(f\"Depth Scale: {depth_scale}\")\n",
    "print(\"Width:\", intrinsics.width)\n",
    "print(\"Height:\", intrinsics.height)\n",
    "print(\"fx:\", intrinsics.fx)\n",
    "print(\"fy:\", intrinsics.fy)\n",
    "print(\"ppx (cx):\", intrinsics.ppx)\n",
    "print(\"ppy (cy):\", intrinsics.ppy)\n",
    "print(\"Distortion Model:\", intrinsics.model)\n",
    "print(\"Distortion Coefficients:\", intrinsics.coeffs)\n",
    "\n",
    "# Stop streaming\n",
    "pipeline.stop()\n"
   ]
  }
 ],
 "metadata": {
  "kernelspec": {
   "display_name": "SmartWorkcell",
   "language": "python",
   "name": "python3"
  },
  "language_info": {
   "codemirror_mode": {
    "name": "ipython",
    "version": 3
   },
   "file_extension": ".py",
   "mimetype": "text/x-python",
   "name": "python",
   "nbconvert_exporter": "python",
   "pygments_lexer": "ipython3",
   "version": "3.9.23"
  }
 },
 "nbformat": 4,
 "nbformat_minor": 5
}
