{
 "cells": [
  {
   "cell_type": "code",
   "execution_count": null,
   "id": "98e42b03",
   "metadata": {},
   "outputs": [
    {
     "ename": "ModuleNotFoundError",
     "evalue": "No module named 'groundingdino'",
     "output_type": "error",
     "traceback": [
      "\u001b[0;31m---------------------------------------------------------------------------\u001b[0m",
      "\u001b[0;31mModuleNotFoundError\u001b[0m                       Traceback (most recent call last)",
      "Cell \u001b[0;32mIn [2], line 1\u001b[0m\n\u001b[0;32m----> 1\u001b[0m \u001b[38;5;28;01mfrom\u001b[39;00m \u001b[38;5;21;01mgroundingdino\u001b[39;00m\u001b[38;5;21;01m.\u001b[39;00m\u001b[38;5;21;01mutil\u001b[39;00m\u001b[38;5;21;01m.\u001b[39;00m\u001b[38;5;21;01minference\u001b[39;00m \u001b[38;5;28;01mimport\u001b[39;00m Model\n\u001b[1;32m      2\u001b[0m \u001b[38;5;28;01mimport\u001b[39;00m \u001b[38;5;21;01mcv2\u001b[39;00m\n\u001b[1;32m      3\u001b[0m \u001b[38;5;28;01mimport\u001b[39;00m \u001b[38;5;21;01msupervision\u001b[39;00m \u001b[38;5;28;01mas\u001b[39;00m \u001b[38;5;21;01msv\u001b[39;00m\n",
      "\u001b[0;31mModuleNotFoundError\u001b[0m: No module named 'groundingdino'"
     ]
    }
   ],
   "source": [
    "from groundingdino.util.inference import Model\n",
    "import cv2\n",
    "import supervision as sv\n",
    "\n",
    "IMAGE_PATH = \"../io/images/color_0000.png\"\n",
    "OUT_IMAGE = \"../io/images/gdino_test_output.png\"\n",
    "TEXT_PROMPT = \"keyboard . bottle . glasses\"\n",
    "BOX_TRESHOLD = 0.35\n",
    "TEXT_TRESHOLD = 0.25\n",
    "CONFIG_PATH = \"../GroundingDINO/groundingdino/config/GroundingDINO_SwinB_cfg.py\"\n",
    "WEIGHTS_PATH = \"../GroundingDINO/weights/groundingdino_swint_ogc.pth\"\n",
    "\n",
    "image = cv2.imread(IMAGE_PATH)\n",
    "model = Model(model_config_path=CONFIG_PATH, model_checkpoint_path=WEIGHTS_PATH)\n",
    "\n",
    "detections, labels = model.predict_with_caption(\n",
    "    image=image,\n",
    "    caption=TEXT_PROMPT,\n",
    "    # box_threshold=BOX_THRESHOLD,\n",
    "    # text_threshold=TEXT_THRESHOLD\n",
    ")\n",
    "\n",
    "box_annotator = sv.BoxAnnotator(color_lookup=sv.ColorLookup.INDEX)\n",
    "label_annotator = sv.LabelAnnotator(color_lookup=sv.ColorLookup.INDEX)\n",
    "annotated_image = box_annotator.annotate(scene=image.copy(), detections=detections) # Draw bounding boxes\n",
    "annotated_image = label_annotator.annotate(scene=annotated_image, detections=detections, labels=labels) # Draw labels\n",
    "\n",
    "cv2.imwrite(OUT_IMAGE, annotated_image)\n",
    "print(f\"Saved annotated image to {OUT_IMAGE}\")"
   ]
  }
 ],
 "metadata": {
  "kernelspec": {
   "display_name": "SmartWorkcell",
   "language": "python",
   "name": "python3"
  },
  "language_info": {
   "codemirror_mode": {
    "name": "ipython",
    "version": 3
   },
   "file_extension": ".py",
   "mimetype": "text/x-python",
   "name": "python",
   "nbconvert_exporter": "python",
   "pygments_lexer": "ipython3",
   "version": "3.9.23"
  }
 },
 "nbformat": 4,
 "nbformat_minor": 5
}
